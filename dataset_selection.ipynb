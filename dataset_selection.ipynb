{
 "cells": [
  {
   "cell_type": "code",
   "execution_count": null,
   "id": "fff54cd3",
   "metadata": {},
   "outputs": [],
   "source": [
    "from raw_data.core import Core\n",
    "from pathlib import Path\n",
    "from raw_data.dataset import Dataset"
   ]
  },
  {
   "cell_type": "code",
   "execution_count": null,
   "id": "28fc2870",
   "metadata": {},
   "outputs": [],
   "source": [
    "countries = [\"USA\", \"CAN\"] # Example countries, replace with actual desired countries\n",
    "# full list of supported countries is found in raw_data/config/countries.json\n",
    "indicators = [\"NY.GDP.MKTP.CD\", \"SP.POP.TOTL\"]  # Example indicators, replace with actual desired indicators\n",
    "# full list of supported indicators is found in raw_data/config/indicators.json\n",
    "years = (1960, 2020)  # Example year range, replace with actual desired range. \n",
    "# The example years are the limits of reliably available in the World Bank API\n",
    "dataset_filename = \"data/dataset/\" + \"NAME_raw\" # replace NAME with the desired dataset name"
   ]
  },
  {
   "cell_type": "code",
   "execution_count": null,
   "id": "030597a4",
   "metadata": {},
   "outputs": [],
   "source": [
    "folders = {\n",
    "    \"config\": Path(\"raw_data/config\"),\n",
    "    \"data\": Path(\"data\"),\n",
    "}\n",
    "core = Core(folders=folders,multiprocessing=False)\n",
    "# Feel free to comment out the core.download if you are recreating the dataset from data that has already been downloaded before\n",
    "# This will save time, as the function checks if the data is already present before downloading\n",
    "core.download_data_batch(countries, indicators, years)\n",
    "dataset = core.create_dataset(countries, indicators, years)\n",
    "dataset.save(filepath=dataset_filename, format=\"hdf5\")"
   ]
  }
 ],
 "metadata": {
  "kernelspec": {
   "display_name": ".venv",
   "language": "python",
   "name": "python3"
  },
  "language_info": {
   "codemirror_mode": {
    "name": "ipython",
    "version": 3
   },
   "file_extension": ".py",
   "mimetype": "text/x-python",
   "name": "python",
   "nbconvert_exporter": "python",
   "pygments_lexer": "ipython3",
   "version": "3.13.3"
  }
 },
 "nbformat": 4,
 "nbformat_minor": 5
}
